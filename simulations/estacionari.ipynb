{
 "cells": [
  {
   "cell_type": "markdown",
   "metadata": {},
   "source": [
    "# Stationary scenarios generator\n",
    "This program generates the stationary scenarios (cases: 0, 1, 2, 3 ...)"
   ]
  },
  {
   "cell_type": "code",
   "execution_count": 1,
   "metadata": {
    "collapsed": false
   },
   "outputs": [
    {
     "name": "stdout",
     "output_type": "stream",
     "text": [
      "/home/albert/Documents/tfg/def/generacasos\n"
     ]
    }
   ],
   "source": [
    "#!/usr/bin/env python\n",
    "from __future__ import division\n",
    "import subprocess, imp, os, csv, time\n",
    "start_time = time.time()\n",
    "path = os.getcwd() #ends without /\n",
    "print(path)\n",
    "#this algorithm runs every case in a defined basic scenario (reference case).\n",
    "#This reference case considers actuated traffic lights with a phase duration of \n",
    "#40 second, a minDur of 5 seconds and a maxDur of 60 seconds. \n",
    "\n",
    "#The cases are defined as new flows (that may be equal to some of the reference flows).\n",
    "\n",
    "#we build a matrix that contains the mean of the detectors lectures by street.\n",
    "\n",
    "#a table of mean travel time and max mean travel time per route is also generated at every \n",
    "#anomaly case in order to obtain an optimal minDur for the actuated program of the traffic lights. "
   ]
  },
  {
   "cell_type": "markdown",
   "metadata": {},
   "source": [
    "The following parameters are the **global parameters** of the simulation: \n",
    "* n: size of the grid\n",
    "* l: length of a street \n",
    "* frequency: accumulation time of the detector lectues (s)"
   ]
  },
  {
   "cell_type": "code",
   "execution_count": null,
   "metadata": {
    "collapsed": true
   },
   "outputs": [],
   "source": [
    "#simulation global parameters\n",
    "tsim =30*3600\n",
    "n = 5\n",
    "l = 150\n",
    "frequency = 60\n",
    "seed = 10"
   ]
  },
  {
   "cell_type": "markdown",
   "metadata": {},
   "source": [
    "The following code **generates the network** and some auxiliary files (C.dat, J.dat, E.dat)."
   ]
  },
  {
   "cell_type": "code",
   "execution_count": null,
   "metadata": {
    "collapsed": true
   },
   "outputs": [],
   "source": [
    "modl = imp.load_source('networkgenerator', path + '/simGen/networkgenerator.py')\n",
    "import networkgenerator\n",
    "modl = imp.load_source('files', path + '/pythons/files.py')\t\n",
    "import files\t\n",
    "modl = imp.load_source('tripsGenerator', path + '/simGen/tripsGenerator.py')\n",
    "import tripsGenerator\n",
    "\n",
    "#generates the network\n",
    "networkgenerator.networkgenerator(l,n)\n",
    "\n",
    "#generates the necessary files (C.dat, J.dat, E.dat ...)\n",
    "files.dat()\n",
    "\n",
    "#generates de configuration file\n",
    "files.configuration(tsim);"
   ]
  },
  {
   "cell_type": "code",
   "execution_count": null,
   "metadata": {
    "collapsed": true,
    "deletable": true,
    "editable": true
   },
   "outputs": [],
   "source": [
    "################################################################################\n",
    "#                       AUXILIARY FUNCTIONS                                    #\n",
    "################################################################################\n",
    "def getTimes(case, maxDur):\n",
    "    totalTime = 0;\n",
    "    totalLoss = 0;\n",
    "    n = 0\n",
    "    number = {}\n",
    "    cumTime = {}\n",
    "    cumLoss = {}\n",
    "    tripinfo = open (\"output/csv/tripinfo/tripinfo{case}_{maxDur}.csv\".format(case = case, maxDur = maxDur), 'r')\n",
    "    reader = csv.reader(tripinfo, delimiter = ';')\n",
    "    row = next(reader)\n",
    "    posTime = row.index('tripinfo_duration')\n",
    "    posOrig = row.index('tripinfo_departLane')\n",
    "    posDest = row.index('tripinfo_arrivalLane')\n",
    "    posLoss = row.index('tripinfo_timeLoss')    \n",
    "    for row in reader:\n",
    "        totalTime += float(row[posTime])\n",
    "        totalLoss += float(row[posLoss])\n",
    "        n += 1\n",
    "        trip = getTrip(row[posOrig], row[posDest])\n",
    "        if trip in number.keys():\n",
    "            number[trip] += 1\n",
    "            cumTime[trip] += float(row[posTime])\n",
    "            cumLoss[trip] += float(row[posLoss])\n",
    "        else:\n",
    "            number[trip] = 1\n",
    "            cumTime[trip] = float(row[posTime])\n",
    "            cumLoss[trip] = float(row[posLoss])\n",
    "    meanTime = totalTime/n\n",
    "    meanLoss = totalLoss/n\n",
    "    means = []\n",
    "    meansLoss = []\n",
    "    for k in number.keys():\n",
    "        means.append(cumTime[k]/number[k])\n",
    "        meansLoss.append(cumLoss[k]/number[k])\n",
    "    maxTime = max(means)\n",
    "    maxLoss = max(meansLoss)\n",
    "    return meanTime, maxTime, meanLoss, maxLoss\n",
    "            \n",
    "\n",
    "def getTrip(departLane, arrivalLane):\n",
    "    departEdge = departLane[0:(departLane.index('_')-1)]\n",
    "    arrivalEdge = arrivalLane[0:(arrivalLane.index('_')-1)]\n",
    "    return departEdge + '->' + arrivalEdge"
   ]
  },
  {
   "cell_type": "code",
   "execution_count": null,
   "metadata": {
    "collapsed": true
   },
   "outputs": [],
   "source": [
    "################################################################################\n",
    "#\t\t\t\t\t\t\t\tRUNNING THE CASES\t\t\t\t\t\t\t   #\n",
    "################################################################################\n",
    "#cases = ['case0', 'case1', 'case2', 'case3']    #names of the flow files must be: case0.dat, case1.dat, case2.dat, etc\n",
    "cases = ['case0', 'case1', 'case2', 'case3', 'case4', 'case5', 'case6', 'case7', 'case8', 'case9', 'case10', 'case11', 'case12', 'case13']\n",
    "values = range(10,61,5)\n",
    "\n",
    "header =  [False]*len(values)\n",
    "\n",
    "for case in cases:\n",
    "    start_traffic = time.time()\n",
    "    print '-------- Generating traffic files --------'\n",
    "    timesDoc = open(\"output/files/times/travelTime/\" + case + \".csv\", 'w')\n",
    "    timesDoc.write('maxDur;meanTime;maxTime\\n')\n",
    "    timesLoss = open(\"output/files/times/timeLoss/\" + case + \"Loss.csv\", 'w')\n",
    "    timesLoss.write('maxDur;meanLoss;maxLoss\\n')\n",
    "    \n",
    "    #generates the traffic for the simulation\n",
    "    tripsGenerator.writeTrips(0, tsim, case, seed)\t\n",
    "    subprocess.call([\"duarouter\", \"-n\", \"input/mapa.net.xml\", \"-t\", \"input/trips.trips.xml\", \"-o\", \"input/rutes.rou.xml\", \"--unsorted-input\", \"true\", \"--ignore-errors\", \"true\", \"--departspeed\", \"10\", \"--departlane\", \"free\"])    \n",
    "    \n",
    "    print 'Traffic generation time: {} seconds'.format(str(time.time() - start_traffic))\n",
    "    print ''\n",
    "\n",
    "    for i in range(len(values)):\n",
    "        maxDur = values[i]\n",
    "        print '-------- Simulating {case} with  maxDur {maxDur} seconds --------'.format(case = case, maxDur = maxDur)\n",
    "\t\t#generate additional file for the simulation\n",
    "        files.additional(maxDur, frequency)\n",
    "     \n",
    "        #runs the simulation\n",
    "        start_simulation = time.time()\n",
    "        subprocess.call([\"sumo\", \"-c\", \"configuration.sumocfg\", \"--xml-validation\", \"never\", \"--time-to-teleport\", \"-1\"])\n",
    "        print ''\n",
    "        os.system(\"$SUMO_HOME/tools/xml/xml2csv.py output/xml/tripinfo.xml -o output/csv/tripinfo/tripinfo{case}_{maxDur}.csv\".format(case = case, maxDur = maxDur))\n",
    "        os.system(\"$SUMO_HOME/tools/xml/xml2csv.py output/xml/detectors.xml -o output/csv/detectors/detectors{case}_{maxDur}.csv\".format(case = case, maxDur = maxDur))\n",
    "        print 'Simulation and conversion time {} seconds'.format(str(time.time() - start_simulation))\n",
    "\t\t\n",
    "        #write the detectors measures in the csv\n",
    "        subprocess.call([\"Rscript\", \"analisi_resultats/writeDetectorsCsv.R\", str(maxDur), case, str(header[i])])\n",
    "        header[i] = True    #once we have written the header it must be true, to avoid writing it again\n",
    "        start_writecsv = time.time()        \n",
    "        #travel times depending on tls configuration\n",
    "        meanTime, maxTime, meanLoss, maxLoss = getTimes(case, maxDur);\n",
    "        timesDoc.write(str(maxDur) + ';' + str(meanTime) + ';' + str(maxTime) + '\\n')\n",
    "        timesLoss.write(str(maxDur) + ';' + str(meanLoss) + ';' + str(maxLoss) + '\\n')\n",
    "        print 'Writing travel times: {} seconds'.format(str(time.time() - start_writecsv))         \n",
    "        print ''\n",
    "    timesDoc.close()\n",
    "    timesLoss.close()\n",
    "\n",
    "print 'Total time of execution: {} seconds'.format(str(time.time() - start_time))"
   ]
  }
 ],
 "metadata": {
  "kernelspec": {
   "display_name": "Python 2",
   "language": "python",
   "name": "python2"
  },
  "language_info": {
   "codemirror_mode": {
    "name": "ipython",
    "version": 2
   },
   "file_extension": ".py",
   "mimetype": "text/x-python",
   "name": "python",
   "nbconvert_exporter": "python",
   "pygments_lexer": "ipython2",
   "version": "2.7.12"
  }
 },
 "nbformat": 4,
 "nbformat_minor": 2
}
