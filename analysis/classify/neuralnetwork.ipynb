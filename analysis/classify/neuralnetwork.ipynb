{
 "cells": [
  {
   "cell_type": "markdown",
   "metadata": {},
   "source": [
    "# Neural network\n",
    "This file evaluates the performance of a neural network."
   ]
  },
  {
   "cell_type": "code",
   "execution_count": 21,
   "metadata": {
    "collapsed": false
   },
   "outputs": [
    {
     "data": {
      "text/plain": [
       "'/home/albert/TFG'"
      ]
     },
     "execution_count": 21,
     "metadata": {},
     "output_type": "execute_result"
    }
   ],
   "source": [
    "import os\n",
    "os.chdir('/home/albert/TFG')\n",
    "os.getcwd()"
   ]
  },
  {
   "cell_type": "markdown",
   "metadata": {},
   "source": [
    "## Data\n",
    "We first obtain the data and give them the appropriate shape and class"
   ]
  },
  {
   "cell_type": "code",
   "execution_count": 22,
   "metadata": {
    "collapsed": false
   },
   "outputs": [],
   "source": [
    "import numpy as np\n",
    "import time\n",
    "from keras.utils import np_utils\n",
    "ncases = 8\n",
    "def clean(data, ncases):\n",
    "\tX = np.delete(data, 0, 0)\n",
    "\t(rows, cols) = X.shape\n",
    "\tY = X[:,cols-1]\n",
    "\tY = np_utils.to_categorical(Y, ncases)\n",
    "\tX = np.delete(X, cols-1,1)\n",
    "\tX = X.astype('float32')\n",
    "\treturn (X,Y) \n",
    "\n",
    "#train data\n",
    "data = np.genfromtxt('output/train/train.csv', delimiter = ';')\n",
    "(X_train,Y_train) = clean(data, ncases)\n",
    "\n",
    "#test data\n",
    "data = np.genfromtxt('output/test/test.csv', delimiter = ';')\n",
    "(X_test, Y_test) = clean(data, ncases)\n",
    "del data"
   ]
  },
  {
   "cell_type": "markdown",
   "metadata": {},
   "source": [
    "## Define the network"
   ]
  },
  {
   "cell_type": "code",
   "execution_count": 23,
   "metadata": {
    "collapsed": false,
    "scrolled": true
   },
   "outputs": [
    {
     "name": "stdout",
     "output_type": "stream",
     "text": [
      "_________________________________________________________________\n",
      "Layer (type)                 Output Shape              Param #   \n",
      "=================================================================\n",
      "dense_8 (Dense)              (None, 100)               6100      \n",
      "_________________________________________________________________\n",
      "dropout_1 (Dropout)          (None, 100)               0         \n",
      "_________________________________________________________________\n",
      "dense_9 (Dense)              (None, 8)                 808       \n",
      "=================================================================\n",
      "Total params: 6,908.0\n",
      "Trainable params: 6,908.0\n",
      "Non-trainable params: 0.0\n",
      "_________________________________________________________________\n"
     ]
    }
   ],
   "source": [
    "#neural network using keras\n",
    "from keras.models import Sequential\n",
    "from keras.layers import Dense, Activation, Dropout\n",
    "(rows, cols) = X_train.shape\n",
    "\n",
    "np.random.seed(1000)\n",
    "model = Sequential()\n",
    "model.add(Dense(100, activation = 'relu', input_shape = (cols,)))\n",
    "model.add(Dropout(0.3))\n",
    "model.add(Dense(ncases, activation = 'softmax'))\n",
    "\n",
    "model.summary()"
   ]
  },
  {
   "cell_type": "code",
   "execution_count": 24,
   "metadata": {
    "collapsed": true
   },
   "outputs": [],
   "source": [
    "#define the optimizer\n",
    "from keras.optimizers import SGD\n",
    "lr = 0.002\n",
    "decay = 0\n",
    "optim = SGD(lr = lr, decay = decay, momentum = 0.09, nesterov = True)\n",
    "model.compile(loss='categorical_crossentropy', \n",
    "\toptimizer = optim, \n",
    "\tmetrics = ['accuracy'])"
   ]
  },
  {
   "cell_type": "code",
   "execution_count": 25,
   "metadata": {
    "collapsed": false,
    "scrolled": true
   },
   "outputs": [
    {
     "name": "stdout",
     "output_type": "stream",
     "text": [
      "Train on 3600 samples, validate on 1680 samples\n",
      "Epoch 1/20\n",
      "0s - loss: 6.6726 - acc: 0.4344 - val_loss: 0.4973 - val_acc: 0.8125\n",
      "Epoch 2/20\n",
      "0s - loss: 0.6534 - acc: 0.7589 - val_loss: 0.3046 - val_acc: 0.8869\n",
      "Epoch 3/20\n",
      "0s - loss: 0.4872 - acc: 0.8250 - val_loss: 0.2596 - val_acc: 0.9161\n",
      "Epoch 4/20\n",
      "0s - loss: 0.4046 - acc: 0.8461 - val_loss: 0.1962 - val_acc: 0.9333\n",
      "Epoch 5/20\n",
      "0s - loss: 0.3645 - acc: 0.8761 - val_loss: 0.1904 - val_acc: 0.9345\n",
      "Epoch 6/20\n",
      "0s - loss: 0.3022 - acc: 0.8897 - val_loss: 0.1573 - val_acc: 0.9440\n",
      "Epoch 7/20\n",
      "0s - loss: 0.2847 - acc: 0.9011 - val_loss: 0.1589 - val_acc: 0.9482\n",
      "Epoch 8/20\n",
      "0s - loss: 0.2652 - acc: 0.8944 - val_loss: 0.1381 - val_acc: 0.9536\n",
      "Epoch 9/20\n",
      "0s - loss: 0.2538 - acc: 0.9061 - val_loss: 0.1753 - val_acc: 0.9381\n",
      "Epoch 10/20\n",
      "0s - loss: 0.2156 - acc: 0.9219 - val_loss: 0.1551 - val_acc: 0.9530\n",
      "Epoch 11/20\n",
      "0s - loss: 0.2315 - acc: 0.9119 - val_loss: 0.1466 - val_acc: 0.9518\n",
      "Epoch 12/20\n",
      "0s - loss: 0.1939 - acc: 0.9269 - val_loss: 0.1770 - val_acc: 0.9369\n",
      "Epoch 13/20\n",
      "0s - loss: 0.1986 - acc: 0.9275 - val_loss: 0.1186 - val_acc: 0.9619\n",
      "Epoch 14/20\n",
      "0s - loss: 0.1914 - acc: 0.9289 - val_loss: 0.1178 - val_acc: 0.9589\n",
      "Epoch 15/20\n",
      "0s - loss: 0.1806 - acc: 0.9303 - val_loss: 0.1378 - val_acc: 0.9571\n",
      "Epoch 16/20\n",
      "0s - loss: 0.1666 - acc: 0.9419 - val_loss: 0.1186 - val_acc: 0.9631\n",
      "Epoch 17/20\n",
      "0s - loss: 0.1631 - acc: 0.9383 - val_loss: 0.1231 - val_acc: 0.9589\n",
      "Epoch 18/20\n",
      "0s - loss: 0.1690 - acc: 0.9325 - val_loss: 0.1228 - val_acc: 0.9595\n",
      "Epoch 19/20\n",
      "0s - loss: 0.1637 - acc: 0.9400 - val_loss: 0.1262 - val_acc: 0.9577\n",
      "Epoch 20/20\n",
      "0s - loss: 0.1512 - acc: 0.9419 - val_loss: 0.1456 - val_acc: 0.9530\n",
      "9.440881729125977 seconds\n"
     ]
    }
   ],
   "source": [
    "#train the network and evaluation\n",
    "batch_size = 10\n",
    "nb_epoch = 20\n",
    "verbose = 2\n",
    "t = time.time()\n",
    "history = model.fit(X_train, Y_train, \n",
    "\tbatch_size = batch_size,\n",
    "\tepochs = nb_epoch,\n",
    "\tverbose = verbose,\n",
    "\tvalidation_data = (X_test,Y_test))\n",
    "\n",
    "print(time.time() - t, 'seconds')"
   ]
  },
  {
   "cell_type": "code",
   "execution_count": 26,
   "metadata": {
    "collapsed": false
   },
   "outputs": [
    {
     "data": {
      "image/png": "[encoded data removed]",
      "text/plain": [
       "<matplotlib.figure.Figure at 0x7f319810c4a8>"
      ]
     },
     "metadata": {},
     "output_type": "display_data"
    }
   ],
   "source": [
    "import matplotlib.pyplot as plt  \n",
    "%matplotlib inline\n",
    "def plot_curves(history,nb_epoch):\n",
    "\n",
    "    \"\"\"\n",
    "    Plots accuracy and loss curves given model history and number of epochs\n",
    "    \"\"\"\n",
    "\n",
    "    fig, ax1 = plt.subplots()\n",
    "    t = np.arange(0, nb_epoch, 1)\n",
    "\n",
    "    ax1.plot(t,history.history['acc'],'b-')\n",
    "    ax1.plot(t,history.history['val_acc'],'b*')\n",
    "    ax1.set_xlabel('epoch')\n",
    "    ax1.set_ylabel('acc', color='b')\n",
    "    ax1.tick_params('y', colors='b')\n",
    "    plt.legend(['train_acc', 'test_acc'], loc='lower left')\n",
    "    ax2 = ax1.twinx()\n",
    "    ax2.plot(t, history.history['loss'], 'r-')\n",
    "    ax2.plot(t, history.history['val_loss'], 'r*')\n",
    "    ax2.set_ylabel('loss', color='r')\n",
    "    ax2.tick_params('y', colors='r')\n",
    "    plt.legend(['train_loss','test_loss'], loc='upper left')\n",
    "    \n",
    "plot_curves(history, nb_epoch)"
   ]
  }
 ],
 "metadata": {
  "kernelspec": {
   "display_name": "Python 3",
   "language": "python",
   "name": "python3"
  },
  "language_info": {
   "codemirror_mode": {
    "name": "ipython",
    "version": 3
   },
   "file_extension": ".py",
   "mimetype": "text/x-python",
   "name": "python",
   "nbconvert_exporter": "python",
   "pygments_lexer": "ipython3",
   "version": "3.6.0"
  }
 },
 "nbformat": 4,
 "nbformat_minor": 2
}
